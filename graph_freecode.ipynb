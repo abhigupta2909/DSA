{
 "cells": [
  {
   "cell_type": "code",
   "execution_count": 2,
   "metadata": {},
   "outputs": [
    {
     "name": "stdout",
     "output_type": "stream",
     "text": [
      "a\n",
      "c\n",
      "e\n",
      "b\n",
      "d\n",
      "f\n"
     ]
    }
   ],
   "source": [
    "graph = {\n",
    "    \"a\" : [\"b\", \"c\"],\n",
    "    \"b\" : [\"d\"],\n",
    "    \"c\" : [\"e\"],\n",
    "    \"d\" : [\"f\"],\n",
    "    \"e\" : [],\n",
    "    \"f\" : []\n",
    "}\n",
    "\n",
    "\n",
    "\n",
    "def dfs_print(graph, src):\n",
    "    stack = []\n",
    "\n",
    "    stack.append(src)\n",
    "\n",
    "    while stack:\n",
    "        cur = stack.pop()\n",
    "        print(cur)\n",
    "\n",
    "        for node in graph[cur]:\n",
    "            stack.append(node)\n",
    "        \n",
    "\n",
    "dfs_print(graph=graph, src=\"a\")\n"
   ]
  },
  {
   "cell_type": "code",
   "execution_count": 4,
   "metadata": {},
   "outputs": [
    {
     "name": "stdout",
     "output_type": "stream",
     "text": [
      "f\n",
      "g\n",
      "i\n",
      "h\n",
      "g\n",
      "k\n",
      "h\n"
     ]
    }
   ],
   "source": [
    "from collections import deque\n",
    "\n",
    "graph = {\n",
    "    \"a\" : [\"b\", \"c\"],\n",
    "    \"b\" : [\"d\"],\n",
    "    \"c\" : [\"e\"],\n",
    "    \"d\" : [\"f\"],\n",
    "    \"e\" : [],\n",
    "    \"f\" : []\n",
    "}\n",
    "graph2 = {\n",
    "    \"f\" : [\"g\",\"i\"],\n",
    "    \"g\" : [\"h\"],\n",
    "    \"h\" : [],\n",
    "    \"i\" : [\"g\", \"k\"],\n",
    "    \"j\" : [\"i\"],\n",
    "    \"k\" : []\n",
    "}\n",
    "\n",
    "def bfs_print(graph, src):\n",
    "\n",
    "    queue = deque()\n",
    "\n",
    "    queue.append(src)\n",
    "\n",
    "    while queue:\n",
    "        cur = queue.popleft()\n",
    "        print(cur)\n",
    "        for node in graph[cur]:\n",
    "            queue.append(node)\n",
    "        \n",
    "\n",
    "bfs_print(graph=graph2, src=\"f\")"
   ]
  },
  {
   "cell_type": "code",
   "execution_count": 5,
   "metadata": {},
   "outputs": [
    {
     "name": "stdout",
     "output_type": "stream",
     "text": [
      "f\n",
      "i\n",
      "k\n",
      "g\n",
      "h\n",
      "g\n",
      "h\n",
      "None\n"
     ]
    }
   ],
   "source": [
    "# cyclic graph dfs\n",
    "\n",
    "graph = {\n",
    "    \"f\" : [\"g\",\"i\"],\n",
    "    \"g\" : [\"h\"],\n",
    "    \"h\" : [],\n",
    "    \"i\" : [\"g\", \"k\"],\n",
    "    \"j\" : [\"i\"],\n",
    "    \"k\" : []\n",
    "}\n",
    "\n",
    "\n",
    "def print_dfs_cycle(graph, src):\n",
    "    \n",
    "    stack = []\n",
    "    visited = set()\n",
    "    stack.append(src)\n",
    "\n",
    "    while stack:\n",
    "        cur = stack.pop()\n",
    "        # visited.add(cur)\n",
    "        print(cur)\n",
    "        \n",
    "        for node in graph[cur]:\n",
    "            # if node not in visited:\n",
    "            stack.append(node)\n",
    "\n",
    "\n",
    "print(print_dfs_cycle(graph=graph, src=\"f\"))"
   ]
  },
  {
   "cell_type": "code",
   "execution_count": 20,
   "metadata": {},
   "outputs": [
    {
     "name": "stdout",
     "output_type": "stream",
     "text": [
      "True\n",
      "True\n"
     ]
    }
   ],
   "source": [
    "# has path\n",
    "from collections import deque\n",
    "graph = {\n",
    "    \"f\" : [\"g\",\"i\"],\n",
    "    \"g\" : [\"h\"],\n",
    "    \"h\" : [],\n",
    "    \"i\" : [\"g\", \"k\"],\n",
    "    \"j\" : [\"i\"],\n",
    "    \"k\" : []\n",
    "}\n",
    "\n",
    "\n",
    "\n",
    "def has_path_dfs(graph, src , des):\n",
    "    visited = set()\n",
    "    stack = [src]\n",
    "\n",
    "\n",
    "    while stack:\n",
    "\n",
    "        cur = stack.pop()\n",
    "        visited.add(cur)\n",
    "        if cur == des:\n",
    "            return True\n",
    "        \n",
    "        for node in graph[cur]:\n",
    "            if node not in visited:\n",
    "                stack.append(node)\n",
    "\n",
    "    return False\n",
    "\n",
    "\n",
    "def has_path_bfs(graph, src, des):\n",
    "    queue = deque()\n",
    "    queue.append(src)\n",
    "    visited = set()\n",
    "    while queue:\n",
    "        cur = queue.pop()\n",
    "        if cur == des:\n",
    "            return True\n",
    "        \n",
    "        for node in graph[cur]:\n",
    "            if node not in visited:\n",
    "                queue.append(node)\n",
    "    return False\n",
    "        \n",
    "\n",
    "\n",
    "print(has_path_dfs(graph=graph, src=\"f\", des=\"h\"))\n",
    "print(has_path_bfs(graph=graph, src=\"f\", des=\"h\"))\n"
   ]
  },
  {
   "cell_type": "code",
   "execution_count": 15,
   "metadata": {},
   "outputs": [
    {
     "name": "stdout",
     "output_type": "stream",
     "text": [
      "True\n"
     ]
    }
   ],
   "source": [
    "# has path recursive\n",
    "graph = {\n",
    "    \"f\" : [\"g\",\"i\"],\n",
    "    \"g\" : [\"h\"],\n",
    "    \"h\" : [],\n",
    "    \"i\" : [\"g\", \"k\"],\n",
    "    \"j\" : [\"i\"],\n",
    "    \"k\" : []\n",
    "}\n",
    "\n",
    "\n",
    "def has_path_recur(graph, src, des):\n",
    "    if src == des:\n",
    "        return True\n",
    "    \n",
    "    for neighbor in graph[src]:\n",
    "        \n",
    "        if has_path_recur(graph, neighbor, des):\n",
    "            return True\n",
    "    \n",
    "    return False\n",
    "\n",
    "\n",
    "print(has_path_recur(graph=graph, src=\"f\", des=\"h\"))\n",
    "\n",
    "\n"
   ]
  },
  {
   "cell_type": "code",
   "execution_count": 14,
   "metadata": {},
   "outputs": [
    {
     "name": "stdout",
     "output_type": "stream",
     "text": [
      "2\n"
     ]
    }
   ],
   "source": [
    "from collections import deque\n",
    "\n",
    "\n",
    "def nodeLevel(V, adj, X):\n",
    "    # code here\n",
    "    level = 0\n",
    "    queue = deque()\n",
    "    queue.append(0)\n",
    "    visited = set()\n",
    "    while queue:\n",
    "        cur = queue.popleft()\n",
    "        if cur not in visited:\n",
    "            level += 1            \n",
    "            visited.add(cur)\n",
    "            for n in adj[cur]:\n",
    "                if n == X:\n",
    "                    return level\n",
    "                queue.append(n)\n",
    "    return -1\n",
    "\n",
    "\n",
    "\n",
    "print(nodeLevel(6, [[1, 2], [0, 3, 4], [0, 5], [1], [1], [2]], 4))"
   ]
  },
  {
   "cell_type": "code",
   "execution_count": 6,
   "metadata": {},
   "outputs": [
    {
     "name": "stdout",
     "output_type": "stream",
     "text": [
      "True\n"
     ]
    }
   ],
   "source": [
    "# cycle detection in undirected\n",
    "\n",
    "visited = set()\n",
    "\n",
    "def isCycleDFS(graph, src, parent):\n",
    "    visited.add(src)\n",
    "\n",
    "    for neighbor in graph[src]:\n",
    "        if neighbor != parent:\n",
    "            if neighbor in visited:\n",
    "                return True\n",
    "            else:\n",
    "                if isCycleDFS(graph, neighbor, src):\n",
    "                    return True\n",
    "    return False\n",
    "\n",
    "graph = {\n",
    "    0: [1, 2],\n",
    "    1: [0, 2],\n",
    "    2: [0, 1, 3],\n",
    "    3: [2]\n",
    "}\n",
    "\n",
    "graph1 = {\n",
    "    0: [1,2],\n",
    "    1: [0],\n",
    "    2: [0,3,4],\n",
    "    3: [2,4],\n",
    "    4: [2,3]\n",
    "}\n",
    "\n",
    "print(isCycleDFS(graph1, 0, -1))"
   ]
  },
  {
   "cell_type": "code",
   "execution_count": 11,
   "metadata": {},
   "outputs": [
    {
     "name": "stdout",
     "output_type": "stream",
     "text": [
      "5\n"
     ]
    }
   ],
   "source": [
    "from collections import deque\n",
    "# find min path length\n",
    "\n",
    "graph = {'hit': ['hot'], \n",
    "         'hot': ['dot', 'lot'], \n",
    "         'dot': ['dog', 'lot'], \n",
    "         'dog': ['log', 'cog'], \n",
    "         'lot': ['log'], \n",
    "         'log': ['cog'], \n",
    "         'cog': []\n",
    "        }\n",
    "\n",
    "\n",
    "def min_path(graph, src, des):\n",
    "    queue = deque()\n",
    "    queue.append((src, 1))\n",
    "    visited = set()\n",
    "    while queue:\n",
    "            cur, path_len = queue.popleft()\n",
    "            visited.add(cur)\n",
    "            if cur == des:\n",
    "                return path_len\n",
    "                    \n",
    "            for node in graph[cur]:\n",
    "                if node not in visited:\n",
    "                        queue.append((node,path_len+1))\n",
    "    \n",
    "    return path_len\n",
    "\n",
    "\n",
    "print(min_path(graph, \"hit\", \"cog\"))\n",
    "\n",
    "    \n",
    "\n"
   ]
  },
  {
   "cell_type": "code",
   "execution_count": 15,
   "metadata": {},
   "outputs": [
    {
     "name": "stdout",
     "output_type": "stream",
     "text": [
      "True\n",
      "False\n"
     ]
    }
   ],
   "source": [
    "'''\n",
    "\n",
    "Given a list of n strings. Each string has length k. Return true if there're 2 strings that only differ by 1 character, otherwise false. You can assume that all strings contain only lowercase English letters [a-z].\n",
    "\n",
    "Example 1:\n",
    "\n",
    "Input: [\"abc\", \"xyz\", \"abd\"]\n",
    "Output: true\n",
    "Explanation: \"abc\" and \"abd\" only differ by 1 character.\n",
    "Example 2:\n",
    "\n",
    "Input: [\"abc\", \"def\", \"xyz\"]\n",
    "Output: false\n",
    "Example 3:\n",
    "\n",
    "Input: [\"abcd\", \"bbbb\", \"abxd\", \"cccc\"]\n",
    "Output: true\n",
    "\n",
    "'''\n",
    "\n",
    "from collections import defaultdict\n",
    "\n",
    "def isDifferByOne(arr):\n",
    "    pattern = defaultdict(list)\n",
    "\n",
    "    for word in arr:\n",
    "        for i in range(len(word)):\n",
    "            form = word[:i] + \"*\" + word[i+1:]\n",
    "            pattern[form].append(word)\n",
    "            if len(pattern[form]) > 1:\n",
    "                return True\n",
    "    \n",
    "    return False\n",
    "\n",
    "\n",
    "print(isDifferByOne([\"abc\", \"xyz\", \"abd\"]))\n",
    "print(isDifferByOne([\"abc\", \"def\", \"xyz\"]))\n",
    "\n"
   ]
  },
  {
   "cell_type": "code",
   "execution_count": 26,
   "metadata": {},
   "outputs": [
    {
     "name": "stdout",
     "output_type": "stream",
     "text": [
      "defaultdict(<class 'list'>, {'hit': ['hot'], 'hot': ['hot', 'lot', 'dot', 'hot', 'hot'], 'dot': ['hot', 'lot', 'dot', 'dot', 'dog', 'dot'], 'dog': ['cog', 'dog', 'log', 'dog', 'dog', 'dot'], 'lot': ['hot', 'lot', 'dot', 'lot', 'lot', 'log'], 'log': ['cog', 'dog', 'log', 'log', 'lot', 'log'], 'cog': ['cog', 'dog', 'log', 'cog', 'cog']})\n"
     ]
    }
   ],
   "source": [
    "from collections import defaultdict\n",
    "\n",
    "\n",
    "beginWord = \"hit\"\n",
    "endWord = \"cog\"\n",
    "wordList = [\"hot\",\"dot\",\"dog\",\"lot\",\"log\",\"cog\"]\n",
    "\n",
    "def temp(arr):\n",
    "    pattern = defaultdict(set)\n",
    "\n",
    "    for word in wordList:\n",
    "        for i in range(len(word)):\n",
    "            form = word[:i] + \"_\" + word[i+1:]\n",
    "            pattern[form].add(word)\n",
    "\n",
    "    graph  = defaultdict(list)\n",
    "    for word in [beginWord] + wordList:\n",
    "        temp = []\n",
    "        for i in range(len(word)):\n",
    "            form = word[:i] + \"_\" + word[i+1:]\n",
    "            if pattern[form]:\n",
    "                temp += set(list(pattern[form]))\n",
    "        \n",
    "        graph[word] = temp\n",
    "    \n",
    "    print(graph)\n",
    "\n",
    "\n",
    "temp(wordList)\n"
   ]
  },
  {
   "cell_type": "code",
   "execution_count": 29,
   "metadata": {},
   "outputs": [
    {
     "ename": "NameError",
     "evalue": "name 'Dict' is not defined",
     "output_type": "error",
     "traceback": [
      "\u001b[0;31m---------------------------------------------------------------------------\u001b[0m",
      "\u001b[0;31mNameError\u001b[0m                                 Traceback (most recent call last)",
      "Cell \u001b[0;32mIn[29], line 13\u001b[0m\n\u001b[1;32m     11\u001b[0m \u001b[38;5;28;01mfrom\u001b[39;00m \u001b[38;5;21;01mheapq\u001b[39;00m \u001b[38;5;28;01mimport\u001b[39;00m heapify, heappush, heappop\n\u001b[1;32m     12\u001b[0m \u001b[38;5;28;01mfrom\u001b[39;00m \u001b[38;5;21;01mcollections\u001b[39;00m \u001b[38;5;28;01mimport\u001b[39;00m defaultdict\n\u001b[0;32m---> 13\u001b[0m \u001b[38;5;28;01mdef\u001b[39;00m \u001b[38;5;21mshortestPath\u001b[39m(\u001b[38;5;28mself\u001b[39m, n: \u001b[38;5;28mint\u001b[39m, edges: List[List[\u001b[38;5;28mint\u001b[39m]], src: \u001b[38;5;28mint\u001b[39m) \u001b[38;5;241m-\u001b[39m\u001b[38;5;241m>\u001b[39m \u001b[43mDict\u001b[49m[\u001b[38;5;28mint\u001b[39m, \u001b[38;5;28mint\u001b[39m]:\n\u001b[1;32m     15\u001b[0m     graph \u001b[38;5;241m=\u001b[39m defaultdict(\u001b[38;5;28mlist\u001b[39m)\n\u001b[1;32m     17\u001b[0m     \u001b[38;5;28;01mfor\u001b[39;00m sr, des, wt \u001b[38;5;129;01min\u001b[39;00m edges:\n",
      "\u001b[0;31mNameError\u001b[0m: name 'Dict' is not defined"
     ]
    }
   ],
   "source": [
    "# Dijkstra's Algorithm\n",
    "\"\"\"\n",
    "Input:\n",
    "n = 5\n",
    "edges = [[0,1,10], [0,2,3], [1,3,2], [2,1,4], [2,3,8], [2,4,2], [3,4,5]]\n",
    "src = 0\n",
    "edges - a list of tuples, each representing a directed edge in the form (u, v, w), where u is the source vertex,\n",
    "v is the destination vertex, and w is the weight of the edge.\n",
    "\"\"\"\n",
    "\n",
    "from heapq import heapify, heappush, heappop\n",
    "from collections import defaultdict\n",
    "def shortestPath(self, n: int, edges: List[List[int]], src: int) -> Dict[int, int]:\n",
    "\n",
    "    graph = defaultdict(list)\n",
    "\n",
    "    for sr, des, wt in edges:\n",
    "        graph[sr].append([des, wt])\n",
    "\n",
    "    min_heap = [[0, src]]\n",
    "    mst = {}\n",
    "    while min_heap:\n",
    "        wt, cur = heappop(min_heap)\n",
    "        if cur in mst:\n",
    "            continue\n",
    "        \n",
    "        mst[cur] = wt\n",
    "\n",
    "        for node, weight in graph[cur]:\n",
    "            if node not in mst:\n",
    "                heappush(min_heap, [wt+weight, node])\n",
    "\n",
    "    for i in range(n):\n",
    "        if i not in mst:\n",
    "            mst[i] = -1\n",
    "    \n",
    "    return mst\n",
    "\n",
    "        \n",
    "\n",
    "\n"
   ]
  },
  {
   "cell_type": "code",
   "execution_count": 31,
   "metadata": {},
   "outputs": [
    {
     "name": "stdout",
     "output_type": "stream",
     "text": [
      "Counter({'a': 1, 'b': 1})\n"
     ]
    }
   ],
   "source": [
    "from collections import Counter\n",
    "\n",
    "print(Counter(\"ab\"))"
   ]
  }
 ],
 "metadata": {
  "kernelspec": {
   "display_name": "Python 3",
   "language": "python",
   "name": "python3"
  },
  "language_info": {
   "codemirror_mode": {
    "name": "ipython",
    "version": 3
   },
   "file_extension": ".py",
   "mimetype": "text/x-python",
   "name": "python",
   "nbconvert_exporter": "python",
   "pygments_lexer": "ipython3",
   "version": "3.11.3"
  }
 },
 "nbformat": 4,
 "nbformat_minor": 2
}
