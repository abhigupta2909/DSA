{
 "cells": [
  {
   "cell_type": "code",
   "execution_count": 17,
   "metadata": {},
   "outputs": [
    {
     "name": "stdout",
     "output_type": "stream",
     "text": [
      "[(1, 5)]\n"
     ]
    }
   ],
   "source": [
    "# merge intervals\n",
    "\n",
    "# arr = [(1,3), (2,6), (8,9), (9,11), (8,10), (2,4), (15,18), (16,17), (20, 100)]\n",
    "arr = [[1,4],[4,5]]\n",
    "# [[1,4],[4,5]]\n",
    "# [[1,3],[2,6],[8,10],[15,18]]\n",
    "# [[1,4],[4,5],[5,5], [6,17], [8,9],[12,19]]\n",
    "\n",
    "arr.sort()\n",
    "\n",
    "intervals = []\n",
    "cur_int = arr[0]\n",
    "\n",
    "for i in range(1, len(arr)):\n",
    "    s, e = arr[i]\n",
    "    if s <= cur_int[1]:\n",
    "        if e > cur_int[1]:\n",
    "            cur_int = (cur_int[0], e)\n",
    "    else:\n",
    "        intervals.append(cur_int)\n",
    "        cur_int = (s, e)\n",
    "\n",
    "intervals.append(cur_int)\n",
    "\n",
    "print(intervals)"
   ]
  }
 ],
 "metadata": {
  "kernelspec": {
   "display_name": "Python 3",
   "language": "python",
   "name": "python3"
  },
  "language_info": {
   "codemirror_mode": {
    "name": "ipython",
    "version": 3
   },
   "file_extension": ".py",
   "mimetype": "text/x-python",
   "name": "python",
   "nbconvert_exporter": "python",
   "pygments_lexer": "ipython3",
   "version": "3.11.3"
  }
 },
 "nbformat": 4,
 "nbformat_minor": 2
}
